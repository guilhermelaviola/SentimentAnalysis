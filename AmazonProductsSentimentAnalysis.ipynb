{
  "nbformat": 4,
  "nbformat_minor": 0,
  "metadata": {
    "colab": {
      "provenance": [],
      "authorship_tag": "ABX9TyM9QGAgxBcz7Trw3l/Dl4Zd",
      "include_colab_link": true
    },
    "kernelspec": {
      "name": "python3",
      "display_name": "Python 3"
    },
    "language_info": {
      "name": "python"
    }
  },
  "cells": [
    {
      "cell_type": "markdown",
      "metadata": {
        "id": "view-in-github",
        "colab_type": "text"
      },
      "source": [
        "<a href=\"https://colab.research.google.com/github/guilhermelaviola/SentimentAnalysis/blob/main/AmazonProductsSentimentAnalysis.ipynb\" target=\"_parent\"><img src=\"https://colab.research.google.com/assets/colab-badge.svg\" alt=\"Open In Colab\"/></a>"
      ]
    },
    {
      "cell_type": "code",
      "execution_count": 1,
      "metadata": {
        "id": "ywQNMl7cUlgr"
      },
      "outputs": [],
      "source": [
        "# Importing all the necessary libraries:\n",
        "import pandas as pd\n",
        "import seaborn as sns\n",
        "import matplotlib.pyplot as plt\n",
        "from nltk.sentiment.vader import SentimentIntensityAnalyzer"
      ]
    },
    {
      "cell_type": "code",
      "source": [
        "\n",
        "# Importing the dataset and displaying it:\n",
        "sentiments = SentimentIntensityAnalyzer()\n",
        "\n",
        "data = pd.read_csv('Reviews.csv')\n",
        "print(data.head())"
      ],
      "metadata": {
        "id": "eXYV4ECEVAMR"
      },
      "execution_count": null,
      "outputs": []
    },
    {
      "cell_type": "code",
      "source": [
        "# Displaying some of the information needed from this dataset:\n",
        "print(data.describe())"
      ],
      "metadata": {
        "id": "BttKjVPGVR7G"
      },
      "execution_count": null,
      "outputs": []
    },
    {
      "cell_type": "code",
      "source": [
        "# This is a large dataset, taht contains some missing values, so we\n",
        "# gotta remove the rows containing missing values:\n",
        "data = data.dropna()"
      ],
      "metadata": {
        "id": "4I7z6bkQVbgz"
      },
      "execution_count": null,
      "outputs": []
    },
    {
      "cell_type": "code",
      "source": [
        "#\n",
        "ratings = data['Score'].value_counts()\n",
        "numbers = ratings.index\n",
        "quantity = ratings.values"
      ],
      "metadata": {
        "id": "9vuUnwvzVqSq"
      },
      "execution_count": null,
      "outputs": []
    },
    {
      "cell_type": "code",
      "source": [
        "custom_colors = ['skyblue', 'yellowgreen', 'tomato', 'blue', 'red']\n",
        "plt.figure(figsize = (10, 8))\n",
        "plt.pie(quantity, labels = numbers, colors = custom_colors)\n",
        "central_circle = plt.circle((0, 0), 0.5, color = 'white')\n",
        "figure = plt.gif()\n",
        "fig.gca().add_artist(central_circle)\n",
        "plt.rc('font', size = 12)\n",
        "plt.title('Distribution of Amazon Product Ratings', fontsize = 20)\n",
        "plt.show()"
      ],
      "metadata": {
        "id": "ivKiK_uaV48Q"
      },
      "execution_count": null,
      "outputs": []
    },
    {
      "cell_type": "code",
      "source": [
        "# Adding three more columns to the dataset (Positive, Negative and Neutral)\n",
        "# by calculating the sentiment scores of the customer reviews mentioned in\n",
        "# the Text column:\n",
        "sentiments = SentimentIntensityAnalyzer()\n",
        "data['Positive'] = [sentiments.polarity_scores(i)['pos'] for i in data['Text']]\n",
        "data['Negative'] = [sentiments.polarity_scores(i)['neg'] for i in data['Text']]\n",
        "data['Neutral'] = [sentiments.polarity_scores(i)['neu'] for i in data['Text']]\n",
        "print(data.head())"
      ],
      "metadata": {
        "id": "eDxO-h4qUII5"
      },
      "execution_count": null,
      "outputs": []
    },
    {
      "cell_type": "code",
      "source": [
        "# Displaying how most people rated the products they bought from Amazon:\n",
        "x = sum(data['Positive'])\n",
        "y = sum(data['Negative'])\n",
        "z = sum(data['Neutral'])\n",
        "\n",
        "def sentiment_score(a, b, c):\n",
        "  if (a > b) and (a > c):\n",
        "    print('😊')\n",
        "  elif (b > a) and (b > c):\n",
        "    print('😠')\n",
        "  else:\n",
        "    print('🙂')\n",
        "sentiment_score(x, y, z)"
      ],
      "metadata": {
        "id": "UQlQ1lV4UdSP"
      },
      "execution_count": null,
      "outputs": []
    },
    {
      "cell_type": "code",
      "source": [
        "# Displaying the total of all sentiment scores:\n",
        "print('Positive ', x)\n",
        "print('Negative ', y)\n",
        "print('Neutral ', z)"
      ],
      "metadata": {
        "id": "W9BD8P4dWR94"
      },
      "execution_count": null,
      "outputs": []
    }
  ]
}